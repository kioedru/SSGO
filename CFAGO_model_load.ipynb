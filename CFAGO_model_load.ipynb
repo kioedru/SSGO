{
 "cells": [
  {
   "cell_type": "code",
   "execution_count": 2,
   "metadata": {},
   "outputs": [],
   "source": [
    "import torch\n",
    "import sys\n",
    "\n",
    "sys.path.append(\"/home/Kioedru/code/SSGO/CFAGO-code\")\n",
    "model_path = \"/home/Kioedru/code/SSGO/human_attention_layers_6_lr_1e-05_seed_1329765522_activation_gelu_model.pkl\"\n",
    "model = torch.load(model_path)"
   ]
  },
  {
   "cell_type": "code",
   "execution_count": 3,
   "metadata": {},
   "outputs": [
    {
     "name": "stdout",
     "output_type": "stream",
     "text": [
      "PreEncoder(\n",
      "  (transformerEncoder): EncoderTransformer(\n",
      "    (encoder): TransformerEncoder(\n",
      "      (layers): ModuleList(\n",
      "        (0-5): 6 x TransformerEncoderLayer(\n",
      "          (dropout): Dropout(p=0.1, inplace=False)\n",
      "          (self_attn): MultiheadAttention(\n",
      "            (out_proj): NonDynamicallyQuantizableLinear(in_features=512, out_features=512, bias=True)\n",
      "          )\n",
      "          (linear1): Linear(in_features=512, out_features=2048, bias=True)\n",
      "          (linear2): Linear(in_features=2048, out_features=512, bias=True)\n",
      "          (norm1): LayerNorm((512,), eps=1e-05, elementwise_affine=True)\n",
      "          (norm2): LayerNorm((512,), eps=1e-05, elementwise_affine=True)\n",
      "          (dropout1): Dropout(p=0.1, inplace=False)\n",
      "          (dropout2): Dropout(p=0.1, inplace=False)\n",
      "        )\n",
      "      )\n",
      "    )\n",
      "  )\n",
      "  (transformerDecoder): EncoderTransformer(\n",
      "    (encoder): TransformerEncoder(\n",
      "      (layers): ModuleList(\n",
      "        (0-5): 6 x TransformerEncoderLayer(\n",
      "          (dropout): Dropout(p=0.1, inplace=False)\n",
      "          (self_attn): MultiheadAttention(\n",
      "            (out_proj): NonDynamicallyQuantizableLinear(in_features=512, out_features=512, bias=True)\n",
      "          )\n",
      "          (linear1): Linear(in_features=512, out_features=2048, bias=True)\n",
      "          (linear2): Linear(in_features=2048, out_features=512, bias=True)\n",
      "          (norm1): LayerNorm((512,), eps=1e-05, elementwise_affine=True)\n",
      "          (norm2): LayerNorm((512,), eps=1e-05, elementwise_affine=True)\n",
      "          (dropout1): Dropout(p=0.1, inplace=False)\n",
      "          (dropout2): Dropout(p=0.1, inplace=False)\n",
      "        )\n",
      "      )\n",
      "    )\n",
      "  )\n",
      "  (input_proj_x1): Linear(in_features=19385, out_features=1024, bias=True)\n",
      "  (input_proj_z1): Linear(in_features=1389, out_features=1024, bias=True)\n",
      "  (input_proj_x2): Linear(in_features=1024, out_features=512, bias=True)\n",
      "  (input_proj_z2): Linear(in_features=1024, out_features=512, bias=True)\n",
      "  (norm_x1): LayerNorm((1024,), eps=1e-05, elementwise_affine=True)\n",
      "  (norm_z1): LayerNorm((1024,), eps=1e-05, elementwise_affine=True)\n",
      "  (norm_x2): LayerNorm((512,), eps=1e-05, elementwise_affine=True)\n",
      "  (norm_z2): LayerNorm((512,), eps=1e-05, elementwise_affine=True)\n",
      "  (dropout_x1): Dropout(p=0.1, inplace=False)\n",
      "  (dropout_z1): Dropout(p=0.1, inplace=False)\n",
      "  (dropout_x2): Dropout(p=0.1, inplace=False)\n",
      "  (dropout_z2): Dropout(p=0.1, inplace=False)\n",
      "  (W_x1): Linear(in_features=512, out_features=1024, bias=True)\n",
      "  (W_z1): Linear(in_features=512, out_features=1024, bias=True)\n",
      "  (W_x2): Linear(in_features=1024, out_features=19385, bias=True)\n",
      "  (W_z2): Linear(in_features=1024, out_features=1389, bias=True)\n",
      "  (dropout_wx): Dropout(p=0.1, inplace=False)\n",
      "  (dropout_wz): Dropout(p=0.1, inplace=False)\n",
      "  (norm_wx): LayerNorm((1024,), eps=1e-05, elementwise_affine=True)\n",
      "  (norm_wz): LayerNorm((1024,), eps=1e-05, elementwise_affine=True)\n",
      ")\n"
     ]
    }
   ],
   "source": [
    "print(model)"
   ]
  },
  {
   "cell_type": "code",
   "execution_count": 4,
   "metadata": {},
   "outputs": [],
   "source": [
    "import pandas as pd\n",
    "\n",
    "pd.to_pickle(model.state_dict(), \"origin_transformer.pkl\")"
   ]
  }
 ],
 "metadata": {
  "kernelspec": {
   "display_name": "cfago",
   "language": "python",
   "name": "python3"
  },
  "language_info": {
   "codemirror_mode": {
    "name": "ipython",
    "version": 3
   },
   "file_extension": ".py",
   "mimetype": "text/x-python",
   "name": "python",
   "nbconvert_exporter": "python",
   "pygments_lexer": "ipython3",
   "version": "3.8.18"
  }
 },
 "nbformat": 4,
 "nbformat_minor": 2
}
