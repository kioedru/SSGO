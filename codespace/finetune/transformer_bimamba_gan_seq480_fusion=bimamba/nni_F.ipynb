{
 "cells": [
  {
   "cell_type": "code",
   "execution_count": 15,
   "metadata": {},
   "outputs": [],
   "source": [
    "search_space = {\n",
    "    \"lr\": {\"_type\": \"loguniform\", \"_value\": [1e-5, 0.1]},\n",
    "    \"pre_lr\": {\"_type\": \"loguniform\", \"_value\": [1e-5, 0.1]},\n",
    "    \"seq_pre_lr\": {\"_type\": \"loguniform\", \"_value\": [1e-5, 0.1]},\n",
    "    \"dropout\": {\"_type\": \"uniform\", \"_value\": [0.1, 0.5]},\n",
    "}"
   ]
  },
  {
   "cell_type": "code",
   "execution_count": 16,
   "metadata": {},
   "outputs": [],
   "source": [
    "from nni.experiment import Experiment\n",
    "\n",
    "experiment = Experiment(\"local\")"
   ]
  },
  {
   "cell_type": "code",
   "execution_count": 17,
   "metadata": {},
   "outputs": [],
   "source": [
    "# 配置 trial\n",
    "experiment.config.trial_command = f\"python /home/Kioedru/code/SSGO/codespace/finetune/transformer_bimamba_gan_seq480/finetune.py --device cuda:0 --pretrain-update 2 --epochs 100 --aspect F --num_class 38 --nni True\"\n",
    "experiment.config.trial_code_directory = \".\""
   ]
  },
  {
   "cell_type": "code",
   "execution_count": 18,
   "metadata": {},
   "outputs": [],
   "source": [
    "# 配置搜索空间\n",
    "experiment.config.search_space = search_space"
   ]
  },
  {
   "cell_type": "code",
   "execution_count": 19,
   "metadata": {},
   "outputs": [],
   "source": [
    "# 配置调优算法\n",
    "experiment.config.tuner.name = \"Random\"\n",
    "experiment.config.tuner.class_args[\"seed\"] = 100"
   ]
  },
  {
   "cell_type": "code",
   "execution_count": 20,
   "metadata": {},
   "outputs": [],
   "source": [
    "# 共尝试10组超参，并且每次并行地评估2组超参。\n",
    "experiment.config.max_trial_number = 100\n",
    "experiment.config.trial_concurrency = 2"
   ]
  },
  {
   "cell_type": "code",
   "execution_count": 21,
   "metadata": {},
   "outputs": [
    {
     "name": "stdout",
     "output_type": "stream",
     "text": [
      "[2024-07-17 19:00:24] \u001b[32mCreating experiment, Experiment ID: \u001b[36mf0xkl4gw\u001b[0m\n",
      "[2024-07-17 19:00:24] \u001b[32mStarting web server...\u001b[0m\n",
      "[2024-07-17 19:00:25] \u001b[32mSetting up...\u001b[0m\n",
      "[2024-07-17 19:00:25] \u001b[32mWeb portal URLs: \u001b[36mhttp://127.0.0.1:8082 http://10.108.35.54:8082\u001b[0m\n"
     ]
    },
    {
     "data": {
      "text/plain": [
       "True"
      ]
     },
     "execution_count": 21,
     "metadata": {},
     "output_type": "execute_result"
    }
   ],
   "source": [
    "experiment.run(8082)"
   ]
  },
  {
   "cell_type": "code",
   "execution_count": null,
   "metadata": {},
   "outputs": [],
   "source": []
  }
 ],
 "metadata": {
  "kernelspec": {
   "display_name": "cfago",
   "language": "python",
   "name": "python3"
  },
  "language_info": {
   "codemirror_mode": {
    "name": "ipython",
    "version": 3
   },
   "file_extension": ".py",
   "mimetype": "text/x-python",
   "name": "python",
   "nbconvert_exporter": "python",
   "pygments_lexer": "ipython3",
   "version": "3.8.18"
  }
 },
 "nbformat": 4,
 "nbformat_minor": 2
}
