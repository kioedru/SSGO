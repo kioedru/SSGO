{
 "cells": [
  {
   "cell_type": "code",
   "execution_count": 1,
   "metadata": {},
   "outputs": [],
   "source": [
    "search_space = {\n",
    "    \"lr\": {\"_type\": \"loguniform\", \"_value\": [1e-5, 0.1]},\n",
    "    \"pre_lr\": {\"_type\": \"loguniform\", \"_value\": [1e-5, 0.1]},\n",
    "    \"seq_pre_lr\": {\"_type\": \"loguniform\", \"_value\": [1e-5, 0.1]},\n",
    "    \"dropout\": {\"_type\": \"uniform\", \"_value\": [0.1, 0.5]},\n",
    "}"
   ]
  },
  {
   "cell_type": "code",
   "execution_count": 2,
   "metadata": {},
   "outputs": [],
   "source": [
    "from nni.experiment import Experiment\n",
    "\n",
    "experiment = Experiment(\"local\")"
   ]
  },
  {
   "cell_type": "code",
   "execution_count": 3,
   "metadata": {},
   "outputs": [],
   "source": [
    "# 配置 trial\n",
    "experiment.config.trial_command = f\"python -u /home/Kioedru/code/SSGO/codespace/finetune/transformer_bimamba_rebuild_seq480_fusion=bimamba/finetune.py --device cuda:1 --pretrain-update 2 --epochs 100 --aspect P --num_class 45 --nni True\"\n",
    "experiment.config.trial_code_directory = \".\""
   ]
  },
  {
   "cell_type": "code",
   "execution_count": 4,
   "metadata": {},
   "outputs": [],
   "source": [
    "# 配置搜索空间\n",
    "experiment.config.search_space = search_space"
   ]
  },
  {
   "cell_type": "code",
   "execution_count": 5,
   "metadata": {},
   "outputs": [],
   "source": [
    "# 配置调优算法\n",
    "experiment.config.tuner.name = \"Random\"\n",
    "experiment.config.tuner.class_args[\"seed\"] = 100"
   ]
  },
  {
   "cell_type": "code",
   "execution_count": 6,
   "metadata": {},
   "outputs": [],
   "source": [
    "# 共尝试10组超参，并且每次并行地评估2组超参。\n",
    "experiment.config.max_trial_number = 100\n",
    "experiment.config.trial_concurrency = 2"
   ]
  },
  {
   "cell_type": "code",
   "execution_count": 7,
   "metadata": {},
   "outputs": [
    {
     "name": "stdout",
     "output_type": "stream",
     "text": [
      "[2024-07-18 16:50:03] \u001b[32mCreating experiment, Experiment ID: \u001b[36m2jemgqhn\u001b[0m\n",
      "[2024-07-18 16:50:03] \u001b[32mStarting web server...\u001b[0m\n",
      "[2024-07-18 16:50:04] \u001b[32mSetting up...\u001b[0m\n",
      "[2024-07-18 16:50:04] \u001b[32mWeb portal URLs: \u001b[36mhttp://127.0.0.1:8083 http://10.108.35.54:8083\u001b[0m\n"
     ]
    }
   ],
   "source": [
    "experiment.run(8083)"
   ]
  },
  {
   "cell_type": "code",
   "execution_count": null,
   "metadata": {},
   "outputs": [],
   "source": []
  }
 ],
 "metadata": {
  "kernelspec": {
   "display_name": "cfago",
   "language": "python",
   "name": "python3"
  },
  "language_info": {
   "codemirror_mode": {
    "name": "ipython",
    "version": 3
   },
   "file_extension": ".py",
   "mimetype": "text/x-python",
   "name": "python",
   "nbconvert_exporter": "python",
   "pygments_lexer": "ipython3",
   "version": "3.8.18"
  }
 },
 "nbformat": 4,
 "nbformat_minor": 2
}
