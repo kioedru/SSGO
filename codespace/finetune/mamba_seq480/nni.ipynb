{
 "cells": [
  {
   "cell_type": "code",
   "execution_count": null,
   "metadata": {},
   "outputs": [],
   "source": [
    "search_space = {\n",
    "    \"lr\": {\"_type\": \"loguniform\", \"_value\": [1e-5, 0.1]},\n",
    "    \"pre_lr\": {\"_type\": \"loguniform\", \"_value\": [1e-6, 0.1]},\n",
    "    \"dropout\": {\"_type\": \"uniform\", \"_value\": [0.1, 0.5]},\n",
    "}"
   ]
  },
  {
   "cell_type": "code",
   "execution_count": null,
   "metadata": {},
   "outputs": [],
   "source": [
    "from nni.experiment import Experiment\n",
    "\n",
    "experiment = Experiment(\"local\")"
   ]
  },
  {
   "cell_type": "code",
   "execution_count": null,
   "metadata": {},
   "outputs": [],
   "source": [
    "# 配置 trial\n",
    "experiment.config.trial_command = f\"python /home/Kioedru/code/SSGO/codespace/finetune/mamba_seq480/finetune.py --device cuda:1 --pretrain-update 2 --epochs 100 --seed 132976111  --aspect F --num_class 38\"\n",
    "experiment.config.trial_code_directory = \".\""
   ]
  },
  {
   "cell_type": "code",
   "execution_count": null,
   "metadata": {},
   "outputs": [],
   "source": [
    "# 配置搜索空间\n",
    "experiment.config.search_space = search_space"
   ]
  },
  {
   "cell_type": "code",
   "execution_count": null,
   "metadata": {},
   "outputs": [],
   "source": [
    "# 配置调优算法\n",
    "experiment.config.tuner.name = \"Random\"\n",
    "experiment.config.tuner.class_args[\"seed\"] = 100"
   ]
  },
  {
   "cell_type": "code",
   "execution_count": null,
   "metadata": {},
   "outputs": [],
   "source": [
    "# 共尝试10组超参，并且每次并行地评估2组超参。\n",
    "experiment.config.max_trial_number = 100\n",
    "experiment.config.trial_concurrency = 2"
   ]
  },
  {
   "cell_type": "code",
   "execution_count": null,
   "metadata": {},
   "outputs": [],
   "source": [
    "experiment.run(8080)"
   ]
  }
 ],
 "metadata": {
  "kernelspec": {
   "display_name": "cfago",
   "language": "python",
   "name": "python3"
  },
  "language_info": {
   "codemirror_mode": {
    "name": "ipython",
    "version": 3
   },
   "file_extension": ".py",
   "mimetype": "text/x-python",
   "name": "python",
   "nbconvert_exporter": "python",
   "pygments_lexer": "ipython3",
   "version": "3.8.18"
  }
 },
 "nbformat": 4,
 "nbformat_minor": 2
}
