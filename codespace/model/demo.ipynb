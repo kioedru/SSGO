{
 "cells": [
  {
   "cell_type": "code",
   "execution_count": 2,
   "metadata": {},
   "outputs": [
    {
     "name": "stdout",
     "output_type": "stream",
     "text": [
      "序列作为 Query 的输出 shape: torch.Size([2, 32, 512])\n",
      "空间作为 Query 的输出 shape: torch.Size([45, 32, 512])\n"
     ]
    }
   ],
   "source": [
    "import torch\n",
    "import torch.nn as nn\n",
    "\n",
    "# 初始化多头注意力层\n",
    "embed_dim = 512  # 嵌入维度\n",
    "num_heads = 8  # 多头数量\n",
    "multihead_attn = nn.MultiheadAttention(embed_dim, num_heads)\n",
    "\n",
    "# 随机初始化输入特征\n",
    "batch_size = 32\n",
    "seq_len = 2  # 序列长度\n",
    "h, w = 5, 9  # 空间特征维度 (14x14)\n",
    "\n",
    "# 序列特征: [seq_len, batch_size, embed_dim]\n",
    "sequence_features = torch.randn(seq_len, batch_size, embed_dim)\n",
    "\n",
    "# 空间特征展平: [batch_size, h * w, embed_dim] -> [8, 196, 512]\n",
    "spatial_features = torch.randn(batch_size, h * w, embed_dim)\n",
    "\n",
    "# 转置空间特征为 [196, batch_size, embed_dim]\n",
    "spatial_features = spatial_features.permute(1, 0, 2)  # [196, 8, 512]\n",
    "\n",
    "# 模式 1: 序列作为 Query，空间作为 Key 和 Value\n",
    "query = sequence_features  # [10, 8, 512]\n",
    "key = value = spatial_features  # [196, 8, 512]\n",
    "\n",
    "# 计算交叉注意力输出\n",
    "output1, _ = multihead_attn(query, key, value)\n",
    "print(f\"序列作为 Query 的输出 shape: {output1.shape}\")  # [10, 8, 512]\n",
    "\n",
    "# 模式 2: 空间作为 Query，序列作为 Key 和 Value\n",
    "query = spatial_features  # [196, 8, 512]\n",
    "key = value = sequence_features  # [10, 8, 512]\n",
    "\n",
    "# 计算交叉注意力输出\n",
    "output2, _ = multihead_attn(query, key, value)\n",
    "print(f\"空间作为 Query 的输出 shape: {output2.shape}\")  # [196, 8, 512]"
   ]
  }
 ],
 "metadata": {
  "kernelspec": {
   "display_name": "cfago",
   "language": "python",
   "name": "python3"
  },
  "language_info": {
   "codemirror_mode": {
    "name": "ipython",
    "version": 3
   },
   "file_extension": ".py",
   "mimetype": "text/x-python",
   "name": "python",
   "nbconvert_exporter": "python",
   "pygments_lexer": "ipython3",
   "version": "3.8.18"
  }
 },
 "nbformat": 4,
 "nbformat_minor": 2
}
