{
 "cells": [
  {
   "cell_type": "code",
   "execution_count": 1,
   "metadata": {},
   "outputs": [],
   "source": [
    "import torch"
   ]
  },
  {
   "cell_type": "code",
   "execution_count": 3,
   "metadata": {},
   "outputs": [
    {
     "name": "stdout",
     "output_type": "stream",
     "text": [
      "torch.Size([32, 512])\n",
      "torch.Size([32, 1])\n"
     ]
    }
   ],
   "source": [
    "a = torch.rand(32, 2)\n",
    "b = torch.rand(3, 32, 512)\n",
    "print(b[0].shape)\n",
    "print(a[:, 0:1].shape)"
   ]
  },
  {
   "cell_type": "code",
   "execution_count": 4,
   "metadata": {},
   "outputs": [],
   "source": [
    "x = a[:, 0:1] * b[0]"
   ]
  },
  {
   "cell_type": "code",
   "execution_count": 6,
   "metadata": {},
   "outputs": [
    {
     "name": "stdout",
     "output_type": "stream",
     "text": [
      "torch.Size([32, 512])\n",
      "tensor([[0.1449, 0.1775, 0.1642,  ..., 0.0319, 0.2466, 0.0178],\n",
      "        [0.6853, 0.3168, 0.2989,  ..., 0.2124, 0.4165, 0.6602],\n",
      "        [0.4266, 0.5690, 0.2777,  ..., 0.6603, 0.6427, 0.6338],\n",
      "        ...,\n",
      "        [0.0490, 0.1528, 0.0098,  ..., 0.1614, 0.0325, 0.1531],\n",
      "        [0.0017, 0.2358, 0.2442,  ..., 0.2070, 0.0960, 0.1928],\n",
      "        [0.4192, 0.2027, 0.0420,  ..., 0.1097, 0.2987, 0.2615]])\n"
     ]
    }
   ],
   "source": [
    "print(x.shape)\n",
    "print(x)"
   ]
  },
  {
   "cell_type": "code",
   "execution_count": null,
   "metadata": {},
   "outputs": [],
   "source": []
  }
 ],
 "metadata": {
  "kernelspec": {
   "display_name": "cfago",
   "language": "python",
   "name": "python3"
  },
  "language_info": {
   "codemirror_mode": {
    "name": "ipython",
    "version": 3
   },
   "file_extension": ".py",
   "mimetype": "text/x-python",
   "name": "python",
   "nbconvert_exporter": "python",
   "pygments_lexer": "ipython3",
   "version": "3.8.18"
  }
 },
 "nbformat": 4,
 "nbformat_minor": 2
}
