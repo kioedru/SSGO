{
 "cells": [
  {
   "cell_type": "code",
   "execution_count": 1,
   "metadata": {},
   "outputs": [
    {
     "data": {
      "text/html": [
       "<div>\n",
       "<style scoped>\n",
       "    .dataframe tbody tr th:only-of-type {\n",
       "        vertical-align: middle;\n",
       "    }\n",
       "\n",
       "    .dataframe tbody tr th {\n",
       "        vertical-align: top;\n",
       "    }\n",
       "\n",
       "    .dataframe thead th {\n",
       "        text-align: right;\n",
       "    }\n",
       "</style>\n",
       "<table border=\"1\" class=\"dataframe\">\n",
       "  <thead>\n",
       "    <tr style=\"text-align: right;\">\n",
       "      <th></th>\n",
       "      <th>Entry</th>\n",
       "      <th>Sequence</th>\n",
       "      <th>annotations</th>\n",
       "      <th>Cross-reference (STRING)</th>\n",
       "    </tr>\n",
       "  </thead>\n",
       "  <tbody>\n",
       "    <tr>\n",
       "      <th>0</th>\n",
       "      <td>Q13356</td>\n",
       "      <td>MGKRQHQKDKMYITCAEYTHFYGGKKPDLPQTNFRRLPFDHCSLSL...</td>\n",
       "      <td>[GO:0000209]</td>\n",
       "      <td>9606.ENSP00000334553;</td>\n",
       "    </tr>\n",
       "    <tr>\n",
       "      <th>1</th>\n",
       "      <td>Q9P2K6</td>\n",
       "      <td>MSAEEMVQIRLEDRCYPVSKRKLIEQSDYFRALYRSGMREALSQEA...</td>\n",
       "      <td>[GO:0000209, GO:0043161]</td>\n",
       "      <td>9606.ENSP00000370671;</td>\n",
       "    </tr>\n",
       "    <tr>\n",
       "      <th>2</th>\n",
       "      <td>P21675</td>\n",
       "      <td>MGPGCDLLLRTAATITAAAIMSDTDSDEDSAGGGPFSLAGFLFGNI...</td>\n",
       "      <td>[GO:0000209, GO:0006974, GO:0006468, GO:001062...</td>\n",
       "      <td>9606.ENSP00000406549;</td>\n",
       "    </tr>\n",
       "    <tr>\n",
       "      <th>3</th>\n",
       "      <td>O94885</td>\n",
       "      <td>MEDAGAAGPGPEPEPEPEPEPEPAPEPEPEPKPGAGTSEAFSRLWT...</td>\n",
       "      <td>[GO:0000209]</td>\n",
       "      <td>9606.ENSP00000356437;</td>\n",
       "    </tr>\n",
       "    <tr>\n",
       "      <th>4</th>\n",
       "      <td>Q13049</td>\n",
       "      <td>MAAAAASHLNLDALREVLECPICMESFTEEQLRPKLLHCGHTICRQ...</td>\n",
       "      <td>[GO:0000209, GO:0016567, GO:0045087, GO:0030335]</td>\n",
       "      <td>9606.ENSP00000408292;</td>\n",
       "    </tr>\n",
       "    <tr>\n",
       "      <th>...</th>\n",
       "      <td>...</td>\n",
       "      <td>...</td>\n",
       "      <td>...</td>\n",
       "      <td>...</td>\n",
       "    </tr>\n",
       "    <tr>\n",
       "      <th>3192</th>\n",
       "      <td>P53396</td>\n",
       "      <td>MSAKAISEQTGKELLYKFICTTSAIQNRFKYARVTPDTDWARLLQD...</td>\n",
       "      <td>[GO:0006695]</td>\n",
       "      <td>9606.ENSP00000253792;</td>\n",
       "    </tr>\n",
       "    <tr>\n",
       "      <th>3193</th>\n",
       "      <td>Q9UBM7</td>\n",
       "      <td>MAAKSQPNIPKAKSLDGVTNDRTASQGQWGRAWEVDWFSLASVIFL...</td>\n",
       "      <td>[GO:0006695]</td>\n",
       "      <td>9606.ENSP00000347717;</td>\n",
       "    </tr>\n",
       "    <tr>\n",
       "      <th>3194</th>\n",
       "      <td>P11413</td>\n",
       "      <td>MAEQVALSRTQVCGILREELFQGDAFHQSDTHIFIIMGASGDLAKK...</td>\n",
       "      <td>[GO:0006695]</td>\n",
       "      <td>9606.ENSP00000377192;</td>\n",
       "    </tr>\n",
       "    <tr>\n",
       "      <th>3195</th>\n",
       "      <td>Q15125</td>\n",
       "      <td>MTTNAGPLHPYWPQHLRLDNFVPNDRPTWHILAGLFSVTGVLVVTT...</td>\n",
       "      <td>[GO:0006695]</td>\n",
       "      <td>9606.ENSP00000417052;</td>\n",
       "    </tr>\n",
       "    <tr>\n",
       "      <th>3196</th>\n",
       "      <td>Q9UHC9</td>\n",
       "      <td>MAEAGLRGWLLWALLLRLAQSEPYTTIHQPGYCAFYDECGKNPELS...</td>\n",
       "      <td>[GO:0006695]</td>\n",
       "      <td>9606.ENSP00000289547;</td>\n",
       "    </tr>\n",
       "  </tbody>\n",
       "</table>\n",
       "<p>3197 rows × 4 columns</p>\n",
       "</div>"
      ],
      "text/plain": [
       "       Entry                                           Sequence  \\\n",
       "0     Q13356  MGKRQHQKDKMYITCAEYTHFYGGKKPDLPQTNFRRLPFDHCSLSL...   \n",
       "1     Q9P2K6  MSAEEMVQIRLEDRCYPVSKRKLIEQSDYFRALYRSGMREALSQEA...   \n",
       "2     P21675  MGPGCDLLLRTAATITAAAIMSDTDSDEDSAGGGPFSLAGFLFGNI...   \n",
       "3     O94885  MEDAGAAGPGPEPEPEPEPEPEPAPEPEPEPKPGAGTSEAFSRLWT...   \n",
       "4     Q13049  MAAAAASHLNLDALREVLECPICMESFTEEQLRPKLLHCGHTICRQ...   \n",
       "...      ...                                                ...   \n",
       "3192  P53396  MSAKAISEQTGKELLYKFICTTSAIQNRFKYARVTPDTDWARLLQD...   \n",
       "3193  Q9UBM7  MAAKSQPNIPKAKSLDGVTNDRTASQGQWGRAWEVDWFSLASVIFL...   \n",
       "3194  P11413  MAEQVALSRTQVCGILREELFQGDAFHQSDTHIFIIMGASGDLAKK...   \n",
       "3195  Q15125  MTTNAGPLHPYWPQHLRLDNFVPNDRPTWHILAGLFSVTGVLVVTT...   \n",
       "3196  Q9UHC9  MAEAGLRGWLLWALLLRLAQSEPYTTIHQPGYCAFYDECGKNPELS...   \n",
       "\n",
       "                                            annotations  \\\n",
       "0                                          [GO:0000209]   \n",
       "1                              [GO:0000209, GO:0043161]   \n",
       "2     [GO:0000209, GO:0006974, GO:0006468, GO:001062...   \n",
       "3                                          [GO:0000209]   \n",
       "4      [GO:0000209, GO:0016567, GO:0045087, GO:0030335]   \n",
       "...                                                 ...   \n",
       "3192                                       [GO:0006695]   \n",
       "3193                                       [GO:0006695]   \n",
       "3194                                       [GO:0006695]   \n",
       "3195                                       [GO:0006695]   \n",
       "3196                                       [GO:0006695]   \n",
       "\n",
       "     Cross-reference (STRING)  \n",
       "0       9606.ENSP00000334553;  \n",
       "1       9606.ENSP00000370671;  \n",
       "2       9606.ENSP00000406549;  \n",
       "3       9606.ENSP00000356437;  \n",
       "4       9606.ENSP00000408292;  \n",
       "...                       ...  \n",
       "3192    9606.ENSP00000253792;  \n",
       "3193    9606.ENSP00000347717;  \n",
       "3194    9606.ENSP00000377192;  \n",
       "3195    9606.ENSP00000417052;  \n",
       "3196    9606.ENSP00000289547;  \n",
       "\n",
       "[3197 rows x 4 columns]"
      ]
     },
     "metadata": {},
     "output_type": "display_data"
    }
   ],
   "source": [
    "import pandas as pd\n",
    "\n",
    "x = pd.read_pickle(\"/home/Kioedru/code/SSGO/data/finetune/9606/train_data_P.pkl\")\n",
    "display(x)"
   ]
  },
  {
   "cell_type": "code",
   "execution_count": 2,
   "metadata": {},
   "outputs": [
    {
     "data": {
      "text/plain": [
       "(5555, 480)"
      ]
     },
     "metadata": {},
     "output_type": "display_data"
    },
    {
     "data": {
      "text/plain": [
       "(5555, 45)"
      ]
     },
     "metadata": {},
     "output_type": "display_data"
    }
   ],
   "source": [
    "import sys\n",
    "\n",
    "sys.path.append(\"/home/Kioedru/code/SSGO\")\n",
    "from read_finetune_data import read_gan_seq_embed_and_labels\n",
    "\n",
    "embs, labels = read_gan_seq_embed_and_labels(\"P\", \"9606\", \"esm2-480\")\n",
    "display(embs.shape, labels.shape)"
   ]
  },
  {
   "cell_type": "code",
   "execution_count": 8,
   "metadata": {},
   "outputs": [],
   "source": [
    "import torch\n",
    "\n",
    "\n",
    "src = torch.rand(3, 32, 512)"
   ]
  },
  {
   "cell_type": "code",
   "execution_count": 9,
   "metadata": {},
   "outputs": [
    {
     "data": {
      "text/plain": [
       "torch.Size([3, 32, 512])"
      ]
     },
     "execution_count": 9,
     "metadata": {},
     "output_type": "execute_result"
    }
   ],
   "source": [
    "src.shape"
   ]
  },
  {
   "cell_type": "code",
   "execution_count": 24,
   "metadata": {},
   "outputs": [
    {
     "data": {
      "text/plain": [
       "torch.Size([32, 1, 512])"
      ]
     },
     "metadata": {},
     "output_type": "display_data"
    },
    {
     "data": {
      "text/plain": [
       "torch.Size([32, 2, 512])"
      ]
     },
     "metadata": {},
     "output_type": "display_data"
    }
   ],
   "source": [
    "seq_src = src[2].unsqueeze(0)  # [1,32,512]\n",
    "ppi_feature_src = src[:2]  # [2,32,512]\n",
    "ppi_feature_demo = torch.einsum(\"LBD->BDL\", ppi_feature_src).reshape(\n",
    "    1, 32, -1\n",
    ")  # [1,32,1024]\n",
    "\n",
    "seq_src = torch.einsum(\"LBD->BLD\", seq_src)  # [32,1,512]\n",
    "ppi_feature_src = torch.einsum(\"LBD->BLD\", ppi_feature_src)  # [32,1,1024]\n",
    "display(seq_src.shape, ppi_feature_src.shape)"
   ]
  },
  {
   "cell_type": "code",
   "execution_count": 31,
   "metadata": {},
   "outputs": [
    {
     "data": {
      "text/plain": [
       "torch.Size([3, 32, 512])"
      ]
     },
     "metadata": {},
     "output_type": "display_data"
    }
   ],
   "source": [
    "src = torch.rand(32, 1, 1536)\n",
    "src_demo = src.reshape(32, 1, 3, 512)\n",
    "\n",
    "# 调整维度顺序，得到形状为 [3, 32, 512] 的张量\n",
    "src_demo = src_demo.permute(2, 0, 3, 1).reshape(3, 32, 512)\n",
    "display(src_demo.shape)"
   ]
  },
  {
   "cell_type": "code",
   "execution_count": 19,
   "metadata": {},
   "outputs": [
    {
     "data": {
      "text/plain": [
       "torch.Size([1, 32, 512])"
      ]
     },
     "metadata": {},
     "output_type": "display_data"
    },
    {
     "data": {
      "text/plain": [
       "torch.Size([2, 32, 512])"
      ]
     },
     "metadata": {},
     "output_type": "display_data"
    }
   ],
   "source": [
    "seq_src = src[2].unsqueeze(0)\n",
    "ppi_feature_src = src[:2]\n",
    "display(seq_src.shape, ppi_feature_src.shape)"
   ]
  },
  {
   "cell_type": "code",
   "execution_count": 23,
   "metadata": {},
   "outputs": [
    {
     "data": {
      "text/plain": [
       "torch.Size([1, 32, 1024])"
      ]
     },
     "metadata": {},
     "output_type": "display_data"
    }
   ],
   "source": [
    "ppi_demo = torch.einsum(\"LBD->BDL\", ppi_feature_src).reshape(1, 32, -1)\n",
    "display(ppi_demo.shape)"
   ]
  },
  {
   "cell_type": "code",
   "execution_count": 11,
   "metadata": {},
   "outputs": [
    {
     "data": {
      "text/plain": [
       "torch.Size([32, 1, 512])"
      ]
     },
     "metadata": {},
     "output_type": "display_data"
    },
    {
     "data": {
      "text/plain": [
       "torch.Size([32, 2, 512])"
      ]
     },
     "metadata": {},
     "output_type": "display_data"
    }
   ],
   "source": [
    "seq_src = torch.einsum(\"LBC->BLC\", seq_src)\n",
    "ppi_feature_src = torch.einsum(\"LBC->BLC\", ppi_feature_src)\n",
    "display(seq_src.shape, ppi_feature_src.shape)"
   ]
  },
  {
   "cell_type": "code",
   "execution_count": 4,
   "metadata": {},
   "outputs": [
    {
     "data": {
      "text/plain": [
       "torch.Size([32, 1024])"
      ]
     },
     "execution_count": 4,
     "metadata": {},
     "output_type": "execute_result"
    }
   ],
   "source": [
    "import torch\n",
    "\n",
    "src = torch.rand(2, 32, 512)\n",
    "src = torch.einsum(\"LBD->BLD\", src)\n",
    "src = src.flatten(1)\n",
    "src.shape"
   ]
  },
  {
   "cell_type": "code",
   "execution_count": null,
   "metadata": {},
   "outputs": [],
   "source": []
  }
 ],
 "metadata": {
  "kernelspec": {
   "display_name": "cfago",
   "language": "python",
   "name": "python3"
  },
  "language_info": {
   "codemirror_mode": {
    "name": "ipython",
    "version": 3
   },
   "file_extension": ".py",
   "mimetype": "text/x-python",
   "name": "python",
   "nbconvert_exporter": "python",
   "pygments_lexer": "ipython3",
   "version": "3.8.18"
  }
 },
 "nbformat": 4,
 "nbformat_minor": 2
}
