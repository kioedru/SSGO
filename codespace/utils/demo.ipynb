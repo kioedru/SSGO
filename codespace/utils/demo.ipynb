{
 "cells": [
  {
   "cell_type": "code",
   "execution_count": 1,
   "metadata": {},
   "outputs": [
    {
     "data": {
      "text/html": [
       "<div>\n",
       "<style scoped>\n",
       "    .dataframe tbody tr th:only-of-type {\n",
       "        vertical-align: middle;\n",
       "    }\n",
       "\n",
       "    .dataframe tbody tr th {\n",
       "        vertical-align: top;\n",
       "    }\n",
       "\n",
       "    .dataframe thead th {\n",
       "        text-align: right;\n",
       "    }\n",
       "</style>\n",
       "<table border=\"1\" class=\"dataframe\">\n",
       "  <thead>\n",
       "    <tr style=\"text-align: right;\">\n",
       "      <th></th>\n",
       "      <th>Entry</th>\n",
       "      <th>Sequence</th>\n",
       "      <th>annotations</th>\n",
       "      <th>Cross-reference (STRING)</th>\n",
       "    </tr>\n",
       "  </thead>\n",
       "  <tbody>\n",
       "    <tr>\n",
       "      <th>0</th>\n",
       "      <td>Q13356</td>\n",
       "      <td>MGKRQHQKDKMYITCAEYTHFYGGKKPDLPQTNFRRLPFDHCSLSL...</td>\n",
       "      <td>[GO:0000209]</td>\n",
       "      <td>9606.ENSP00000334553;</td>\n",
       "    </tr>\n",
       "    <tr>\n",
       "      <th>1</th>\n",
       "      <td>Q9P2K6</td>\n",
       "      <td>MSAEEMVQIRLEDRCYPVSKRKLIEQSDYFRALYRSGMREALSQEA...</td>\n",
       "      <td>[GO:0000209, GO:0043161]</td>\n",
       "      <td>9606.ENSP00000370671;</td>\n",
       "    </tr>\n",
       "    <tr>\n",
       "      <th>2</th>\n",
       "      <td>P21675</td>\n",
       "      <td>MGPGCDLLLRTAATITAAAIMSDTDSDEDSAGGGPFSLAGFLFGNI...</td>\n",
       "      <td>[GO:0000209, GO:0006974, GO:0006468, GO:001062...</td>\n",
       "      <td>9606.ENSP00000406549;</td>\n",
       "    </tr>\n",
       "    <tr>\n",
       "      <th>3</th>\n",
       "      <td>O94885</td>\n",
       "      <td>MEDAGAAGPGPEPEPEPEPEPEPAPEPEPEPKPGAGTSEAFSRLWT...</td>\n",
       "      <td>[GO:0000209]</td>\n",
       "      <td>9606.ENSP00000356437;</td>\n",
       "    </tr>\n",
       "    <tr>\n",
       "      <th>4</th>\n",
       "      <td>Q13049</td>\n",
       "      <td>MAAAAASHLNLDALREVLECPICMESFTEEQLRPKLLHCGHTICRQ...</td>\n",
       "      <td>[GO:0000209, GO:0016567, GO:0045087, GO:0030335]</td>\n",
       "      <td>9606.ENSP00000408292;</td>\n",
       "    </tr>\n",
       "    <tr>\n",
       "      <th>...</th>\n",
       "      <td>...</td>\n",
       "      <td>...</td>\n",
       "      <td>...</td>\n",
       "      <td>...</td>\n",
       "    </tr>\n",
       "    <tr>\n",
       "      <th>3192</th>\n",
       "      <td>P53396</td>\n",
       "      <td>MSAKAISEQTGKELLYKFICTTSAIQNRFKYARVTPDTDWARLLQD...</td>\n",
       "      <td>[GO:0006695]</td>\n",
       "      <td>9606.ENSP00000253792;</td>\n",
       "    </tr>\n",
       "    <tr>\n",
       "      <th>3193</th>\n",
       "      <td>Q9UBM7</td>\n",
       "      <td>MAAKSQPNIPKAKSLDGVTNDRTASQGQWGRAWEVDWFSLASVIFL...</td>\n",
       "      <td>[GO:0006695]</td>\n",
       "      <td>9606.ENSP00000347717;</td>\n",
       "    </tr>\n",
       "    <tr>\n",
       "      <th>3194</th>\n",
       "      <td>P11413</td>\n",
       "      <td>MAEQVALSRTQVCGILREELFQGDAFHQSDTHIFIIMGASGDLAKK...</td>\n",
       "      <td>[GO:0006695]</td>\n",
       "      <td>9606.ENSP00000377192;</td>\n",
       "    </tr>\n",
       "    <tr>\n",
       "      <th>3195</th>\n",
       "      <td>Q15125</td>\n",
       "      <td>MTTNAGPLHPYWPQHLRLDNFVPNDRPTWHILAGLFSVTGVLVVTT...</td>\n",
       "      <td>[GO:0006695]</td>\n",
       "      <td>9606.ENSP00000417052;</td>\n",
       "    </tr>\n",
       "    <tr>\n",
       "      <th>3196</th>\n",
       "      <td>Q9UHC9</td>\n",
       "      <td>MAEAGLRGWLLWALLLRLAQSEPYTTIHQPGYCAFYDECGKNPELS...</td>\n",
       "      <td>[GO:0006695]</td>\n",
       "      <td>9606.ENSP00000289547;</td>\n",
       "    </tr>\n",
       "  </tbody>\n",
       "</table>\n",
       "<p>3197 rows × 4 columns</p>\n",
       "</div>"
      ],
      "text/plain": [
       "       Entry                                           Sequence  \\\n",
       "0     Q13356  MGKRQHQKDKMYITCAEYTHFYGGKKPDLPQTNFRRLPFDHCSLSL...   \n",
       "1     Q9P2K6  MSAEEMVQIRLEDRCYPVSKRKLIEQSDYFRALYRSGMREALSQEA...   \n",
       "2     P21675  MGPGCDLLLRTAATITAAAIMSDTDSDEDSAGGGPFSLAGFLFGNI...   \n",
       "3     O94885  MEDAGAAGPGPEPEPEPEPEPEPAPEPEPEPKPGAGTSEAFSRLWT...   \n",
       "4     Q13049  MAAAAASHLNLDALREVLECPICMESFTEEQLRPKLLHCGHTICRQ...   \n",
       "...      ...                                                ...   \n",
       "3192  P53396  MSAKAISEQTGKELLYKFICTTSAIQNRFKYARVTPDTDWARLLQD...   \n",
       "3193  Q9UBM7  MAAKSQPNIPKAKSLDGVTNDRTASQGQWGRAWEVDWFSLASVIFL...   \n",
       "3194  P11413  MAEQVALSRTQVCGILREELFQGDAFHQSDTHIFIIMGASGDLAKK...   \n",
       "3195  Q15125  MTTNAGPLHPYWPQHLRLDNFVPNDRPTWHILAGLFSVTGVLVVTT...   \n",
       "3196  Q9UHC9  MAEAGLRGWLLWALLLRLAQSEPYTTIHQPGYCAFYDECGKNPELS...   \n",
       "\n",
       "                                            annotations  \\\n",
       "0                                          [GO:0000209]   \n",
       "1                              [GO:0000209, GO:0043161]   \n",
       "2     [GO:0000209, GO:0006974, GO:0006468, GO:001062...   \n",
       "3                                          [GO:0000209]   \n",
       "4      [GO:0000209, GO:0016567, GO:0045087, GO:0030335]   \n",
       "...                                                 ...   \n",
       "3192                                       [GO:0006695]   \n",
       "3193                                       [GO:0006695]   \n",
       "3194                                       [GO:0006695]   \n",
       "3195                                       [GO:0006695]   \n",
       "3196                                       [GO:0006695]   \n",
       "\n",
       "     Cross-reference (STRING)  \n",
       "0       9606.ENSP00000334553;  \n",
       "1       9606.ENSP00000370671;  \n",
       "2       9606.ENSP00000406549;  \n",
       "3       9606.ENSP00000356437;  \n",
       "4       9606.ENSP00000408292;  \n",
       "...                       ...  \n",
       "3192    9606.ENSP00000253792;  \n",
       "3193    9606.ENSP00000347717;  \n",
       "3194    9606.ENSP00000377192;  \n",
       "3195    9606.ENSP00000417052;  \n",
       "3196    9606.ENSP00000289547;  \n",
       "\n",
       "[3197 rows x 4 columns]"
      ]
     },
     "metadata": {},
     "output_type": "display_data"
    }
   ],
   "source": [
    "import pandas as pd\n",
    "\n",
    "x = pd.read_pickle(\"/home/Kioedru/code/SSGO/data/finetune/9606/train_data_P.pkl\")\n",
    "display(x)"
   ]
  },
  {
   "cell_type": "code",
   "execution_count": 2,
   "metadata": {},
   "outputs": [
    {
     "data": {
      "text/plain": [
       "(5555, 480)"
      ]
     },
     "metadata": {},
     "output_type": "display_data"
    },
    {
     "data": {
      "text/plain": [
       "(5555, 45)"
      ]
     },
     "metadata": {},
     "output_type": "display_data"
    }
   ],
   "source": [
    "import sys\n",
    "\n",
    "sys.path.append(\"/home/Kioedru/code/SSGO\")\n",
    "from read_finetune_data import read_gan_seq_embed_and_labels\n",
    "\n",
    "embs, labels = read_gan_seq_embed_and_labels(\"P\", \"9606\", \"esm2-480\")\n",
    "display(embs.shape, labels.shape)"
   ]
  },
  {
   "cell_type": "code",
   "execution_count": 8,
   "metadata": {},
   "outputs": [],
   "source": [
    "import torch\n",
    "\n",
    "\n",
    "src = torch.rand(3, 32, 512)"
   ]
  },
  {
   "cell_type": "code",
   "execution_count": 9,
   "metadata": {},
   "outputs": [
    {
     "data": {
      "text/plain": [
       "torch.Size([3, 32, 512])"
      ]
     },
     "execution_count": 9,
     "metadata": {},
     "output_type": "execute_result"
    }
   ],
   "source": [
    "src.shape"
   ]
  },
  {
   "cell_type": "code",
   "execution_count": 24,
   "metadata": {},
   "outputs": [
    {
     "data": {
      "text/plain": [
       "torch.Size([32, 1, 512])"
      ]
     },
     "metadata": {},
     "output_type": "display_data"
    },
    {
     "data": {
      "text/plain": [
       "torch.Size([32, 2, 512])"
      ]
     },
     "metadata": {},
     "output_type": "display_data"
    }
   ],
   "source": [
    "seq_src = src[2].unsqueeze(0)  # [1,32,512]\n",
    "ppi_feature_src = src[:2]  # [2,32,512]\n",
    "ppi_feature_demo = torch.einsum(\"LBD->BDL\", ppi_feature_src).reshape(\n",
    "    1, 32, -1\n",
    ")  # [1,32,1024]\n",
    "\n",
    "seq_src = torch.einsum(\"LBD->BLD\", seq_src)  # [32,1,512]\n",
    "ppi_feature_src = torch.einsum(\"LBD->BLD\", ppi_feature_src)  # [32,1,1024]\n",
    "display(seq_src.shape, ppi_feature_src.shape)"
   ]
  },
  {
   "cell_type": "code",
   "execution_count": 31,
   "metadata": {},
   "outputs": [
    {
     "data": {
      "text/plain": [
       "torch.Size([3, 32, 512])"
      ]
     },
     "metadata": {},
     "output_type": "display_data"
    }
   ],
   "source": [
    "src = torch.rand(32, 1, 1536)\n",
    "src_demo = src.reshape(32, 1, 3, 512)\n",
    "\n",
    "# 调整维度顺序，得到形状为 [3, 32, 512] 的张量\n",
    "src_demo = src_demo.permute(2, 0, 3, 1).reshape(3, 32, 512)\n",
    "display(src_demo.shape)"
   ]
  },
  {
   "cell_type": "code",
   "execution_count": 19,
   "metadata": {},
   "outputs": [
    {
     "data": {
      "text/plain": [
       "torch.Size([1, 32, 512])"
      ]
     },
     "metadata": {},
     "output_type": "display_data"
    },
    {
     "data": {
      "text/plain": [
       "torch.Size([2, 32, 512])"
      ]
     },
     "metadata": {},
     "output_type": "display_data"
    }
   ],
   "source": [
    "seq_src = src[2].unsqueeze(0)\n",
    "ppi_feature_src = src[:2]\n",
    "display(seq_src.shape, ppi_feature_src.shape)"
   ]
  },
  {
   "cell_type": "code",
   "execution_count": 23,
   "metadata": {},
   "outputs": [
    {
     "data": {
      "text/plain": [
       "torch.Size([1, 32, 1024])"
      ]
     },
     "metadata": {},
     "output_type": "display_data"
    }
   ],
   "source": [
    "ppi_demo = torch.einsum(\"LBD->BDL\", ppi_feature_src).reshape(1, 32, -1)\n",
    "display(ppi_demo.shape)"
   ]
  },
  {
   "cell_type": "code",
   "execution_count": 11,
   "metadata": {},
   "outputs": [
    {
     "data": {
      "text/plain": [
       "torch.Size([32, 1, 512])"
      ]
     },
     "metadata": {},
     "output_type": "display_data"
    },
    {
     "data": {
      "text/plain": [
       "torch.Size([32, 2, 512])"
      ]
     },
     "metadata": {},
     "output_type": "display_data"
    }
   ],
   "source": [
    "seq_src = torch.einsum(\"LBC->BLC\", seq_src)\n",
    "ppi_feature_src = torch.einsum(\"LBC->BLC\", ppi_feature_src)\n",
    "display(seq_src.shape, ppi_feature_src.shape)"
   ]
  },
  {
   "cell_type": "code",
   "execution_count": 4,
   "metadata": {},
   "outputs": [
    {
     "data": {
      "text/plain": [
       "torch.Size([32, 1024])"
      ]
     },
     "execution_count": 4,
     "metadata": {},
     "output_type": "execute_result"
    }
   ],
   "source": [
    "import torch\n",
    "\n",
    "src = torch.rand(2, 32, 512)\n",
    "src = torch.einsum(\"LBD->BLD\", src)\n",
    "src = src.flatten(1)\n",
    "src.shape"
   ]
  },
  {
   "cell_type": "code",
   "execution_count": null,
   "metadata": {},
   "outputs": [],
   "source": []
  },
  {
   "cell_type": "code",
   "execution_count": 5,
   "metadata": {},
   "outputs": [],
   "source": [
    "import pandas as pd\n",
    "import numpy as np\n",
    "import sys\n",
    "from evaluate_performance import evaluate_performance"
   ]
  },
  {
   "cell_type": "code",
   "execution_count": 12,
   "metadata": {},
   "outputs": [
    {
     "data": {
      "text/html": [
       "<div>\n",
       "<style scoped>\n",
       "    .dataframe tbody tr th:only-of-type {\n",
       "        vertical-align: middle;\n",
       "    }\n",
       "\n",
       "    .dataframe tbody tr th {\n",
       "        vertical-align: top;\n",
       "    }\n",
       "\n",
       "    .dataframe thead th {\n",
       "        text-align: right;\n",
       "    }\n",
       "</style>\n",
       "<table border=\"1\" class=\"dataframe\">\n",
       "  <thead>\n",
       "    <tr style=\"text-align: right;\">\n",
       "      <th></th>\n",
       "      <th>labels</th>\n",
       "      <th>preds</th>\n",
       "    </tr>\n",
       "  </thead>\n",
       "  <tbody>\n",
       "    <tr>\n",
       "      <th>0</th>\n",
       "      <td>[1.0, 0.0, 0.0, 0.0, 0.0, 0.0, 0.0, 0.0, 0.0, ...</td>\n",
       "      <td>[0.00010028381, 0.0017451639, 3.7740967e-05, 0...</td>\n",
       "    </tr>\n",
       "    <tr>\n",
       "      <th>1</th>\n",
       "      <td>[0.0, 1.0, 0.0, 0.0, 0.0, 0.0, 0.0, 1.0, 0.0, ...</td>\n",
       "      <td>[0.004814617, 0.0030973386, 0.0012652369, 0.03...</td>\n",
       "    </tr>\n",
       "    <tr>\n",
       "      <th>2</th>\n",
       "      <td>[0.0, 1.0, 0.0, 0.0, 0.0, 0.0, 0.0, 0.0, 0.0, ...</td>\n",
       "      <td>[7.0550805e-09, 0.09757977, 0.27638626, 0.0093...</td>\n",
       "    </tr>\n",
       "    <tr>\n",
       "      <th>3</th>\n",
       "      <td>[0.0, 0.0, 1.0, 0.0, 0.0, 0.0, 0.0, 0.0, 0.0, ...</td>\n",
       "      <td>[2.316439e-06, 0.2925879, 0.9794561, 0.0010405...</td>\n",
       "    </tr>\n",
       "    <tr>\n",
       "      <th>4</th>\n",
       "      <td>[0.0, 0.0, 1.0, 0.0, 0.0, 0.0, 0.0, 0.0, 0.0, ...</td>\n",
       "      <td>[0.0032093953, 0.0043052156, 0.8494466, 0.0034...</td>\n",
       "    </tr>\n",
       "    <tr>\n",
       "      <th>...</th>\n",
       "      <td>...</td>\n",
       "      <td>...</td>\n",
       "    </tr>\n",
       "    <tr>\n",
       "      <th>114</th>\n",
       "      <td>[0.0, 0.0, 0.0, 0.0, 0.0, 0.0, 0.0, 0.0, 0.0, ...</td>\n",
       "      <td>[0.0005686659, 0.0071625984, 0.0016634872, 0.0...</td>\n",
       "    </tr>\n",
       "    <tr>\n",
       "      <th>115</th>\n",
       "      <td>[0.0, 0.0, 0.0, 0.0, 0.0, 0.0, 0.0, 0.0, 0.0, ...</td>\n",
       "      <td>[9.362545e-06, 0.01237567, 0.0013884769, 0.006...</td>\n",
       "    </tr>\n",
       "    <tr>\n",
       "      <th>116</th>\n",
       "      <td>[0.0, 0.0, 0.0, 0.0, 0.0, 0.0, 0.0, 0.0, 0.0, ...</td>\n",
       "      <td>[0.0010194334, 0.1909066, 0.3216787, 0.0298141...</td>\n",
       "    </tr>\n",
       "    <tr>\n",
       "      <th>117</th>\n",
       "      <td>[0.0, 0.0, 0.0, 0.0, 0.0, 0.0, 0.0, 0.0, 0.0, ...</td>\n",
       "      <td>[1.2446227e-06, 0.0036227214, 2.7930357e-06, 0...</td>\n",
       "    </tr>\n",
       "    <tr>\n",
       "      <th>118</th>\n",
       "      <td>[0.0, 0.0, 0.0, 0.0, 0.0, 0.0, 0.0, 0.0, 0.0, ...</td>\n",
       "      <td>[6.3058546e-06, 0.00380553, 0.0017837036, 0.81...</td>\n",
       "    </tr>\n",
       "  </tbody>\n",
       "</table>\n",
       "<p>119 rows × 2 columns</p>\n",
       "</div>"
      ],
      "text/plain": [
       "                                                labels  \\\n",
       "0    [1.0, 0.0, 0.0, 0.0, 0.0, 0.0, 0.0, 0.0, 0.0, ...   \n",
       "1    [0.0, 1.0, 0.0, 0.0, 0.0, 0.0, 0.0, 1.0, 0.0, ...   \n",
       "2    [0.0, 1.0, 0.0, 0.0, 0.0, 0.0, 0.0, 0.0, 0.0, ...   \n",
       "3    [0.0, 0.0, 1.0, 0.0, 0.0, 0.0, 0.0, 0.0, 0.0, ...   \n",
       "4    [0.0, 0.0, 1.0, 0.0, 0.0, 0.0, 0.0, 0.0, 0.0, ...   \n",
       "..                                                 ...   \n",
       "114  [0.0, 0.0, 0.0, 0.0, 0.0, 0.0, 0.0, 0.0, 0.0, ...   \n",
       "115  [0.0, 0.0, 0.0, 0.0, 0.0, 0.0, 0.0, 0.0, 0.0, ...   \n",
       "116  [0.0, 0.0, 0.0, 0.0, 0.0, 0.0, 0.0, 0.0, 0.0, ...   \n",
       "117  [0.0, 0.0, 0.0, 0.0, 0.0, 0.0, 0.0, 0.0, 0.0, ...   \n",
       "118  [0.0, 0.0, 0.0, 0.0, 0.0, 0.0, 0.0, 0.0, 0.0, ...   \n",
       "\n",
       "                                                 preds  \n",
       "0    [0.00010028381, 0.0017451639, 3.7740967e-05, 0...  \n",
       "1    [0.004814617, 0.0030973386, 0.0012652369, 0.03...  \n",
       "2    [7.0550805e-09, 0.09757977, 0.27638626, 0.0093...  \n",
       "3    [2.316439e-06, 0.2925879, 0.9794561, 0.0010405...  \n",
       "4    [0.0032093953, 0.0043052156, 0.8494466, 0.0034...  \n",
       "..                                                 ...  \n",
       "114  [0.0005686659, 0.0071625984, 0.0016634872, 0.0...  \n",
       "115  [9.362545e-06, 0.01237567, 0.0013884769, 0.006...  \n",
       "116  [0.0010194334, 0.1909066, 0.3216787, 0.0298141...  \n",
       "117  [1.2446227e-06, 0.0036227214, 2.7930357e-06, 0...  \n",
       "118  [6.3058546e-06, 0.00380553, 0.0017837036, 0.81...  \n",
       "\n",
       "[119 rows x 2 columns]"
      ]
     },
     "metadata": {},
     "output_type": "display_data"
    }
   ],
   "source": [
    "predict = pd.read_pickle(\"/home/Kioedru/code/PO2GO/data_cp/cco_po2go_predictions.pkl\")\n",
    "display(predict)"
   ]
  },
  {
   "cell_type": "code",
   "execution_count": 13,
   "metadata": {},
   "outputs": [
    {
     "name": "stdout",
     "output_type": "stream",
     "text": [
      "(119, 35)\n",
      "(119, 35)\n"
     ]
    }
   ],
   "source": [
    "labels_matrix = np.vstack(predict[\"labels\"].values)\n",
    "preds_matrix = np.vstack(predict[\"preds\"].values)\n",
    "\n",
    "print(labels_matrix.shape)  # 输出 (182, 45)\n",
    "print(preds_matrix.shape)  # 输出 (182, 45)"
   ]
  },
  {
   "cell_type": "code",
   "execution_count": 14,
   "metadata": {},
   "outputs": [
    {
     "name": "stdout",
     "output_type": "stream",
     "text": [
      "number of test labels is:  35\n"
     ]
    },
    {
     "name": "stderr",
     "output_type": "stream",
     "text": [
      "/home/Kioedru/code/SSGO/codespace/utils/evaluate_performance.py:74: RuntimeWarning: invalid value encountered in divide\n",
      "  f = np.divide(2 * x * y, (x + y))\n"
     ]
    }
   ],
   "source": [
    "metric = evaluate_performance(labels_matrix, preds_matrix, preds_matrix > 0.5)"
   ]
  },
  {
   "cell_type": "code",
   "execution_count": 15,
   "metadata": {},
   "outputs": [
    {
     "data": {
      "text/plain": [
       "{'M-aupr': 0.13534190697259832,\n",
       " 'M-aupr-labels': [0.010416666666666666,\n",
       "  0.017918529161345252,\n",
       "  0.4987931034482759,\n",
       "  0.010638297872340425,\n",
       "  0.0,\n",
       "  0.012828830033886214,\n",
       "  0.4824721982528809,\n",
       "  0.1625132623448764,\n",
       "  0.2875,\n",
       "  0.041666666666666664,\n",
       "  0.06249377864438513,\n",
       "  0.03125,\n",
       "  0.02631578947368421,\n",
       "  0.010869565217391304,\n",
       "  0.1,\n",
       "  0.13800665456745312,\n",
       "  0.2002610693400167,\n",
       "  0.125,\n",
       "  0.029411764705882353,\n",
       "  0.08943236496220197,\n",
       "  0.16666666666666666,\n",
       "  0.26588372268149885,\n",
       "  0.25,\n",
       "  0.08630952380952381,\n",
       "  0.3658123693686887,\n",
       "  0.008771929824561403,\n",
       "  0.0,\n",
       "  0.7685082621487928,\n",
       "  0.01888888888888889,\n",
       "  0.0698005698005698,\n",
       "  0.26269841269841265,\n",
       "  0.07142857142857142,\n",
       "  0.014636282945505369,\n",
       "  0.03125,\n",
       "  0.018523002421307506],\n",
       " 'm-aupr': 0.222587515297305,\n",
       " 'acc': 0.21008403361344538,\n",
       " 'F1': 0.23456790123456786,\n",
       " 'Fmax': 0.3157894736842105}"
      ]
     },
     "metadata": {},
     "output_type": "display_data"
    }
   ],
   "source": [
    "display(metric)"
   ]
  },
  {
   "cell_type": "code",
   "execution_count": 2,
   "metadata": {},
   "outputs": [
    {
     "data": {
      "text/plain": [
       "tensor([0, 1, 2, 3, 4, 5, 6, 7, 8, 9])"
      ]
     },
     "metadata": {},
     "output_type": "display_data"
    }
   ],
   "source": [
    "import torch\n",
    "\n",
    "display(torch.arange(0, 10))"
   ]
  },
  {
   "cell_type": "code",
   "execution_count": 7,
   "metadata": {},
   "outputs": [
    {
     "name": "stdout",
     "output_type": "stream",
     "text": [
      "Are the tensors equal? False\n"
     ]
    },
    {
     "name": "stderr",
     "output_type": "stream",
     "text": [
      "/tmp/ipykernel_229032/3508443612.py:7: UserWarning: To copy construct from a tensor, it is recommended to use sourceTensor.clone().detach() or sourceTensor.clone().detach().requires_grad_(True), rather than torch.tensor(sourceTensor).\n",
      "  are_tensors_equal = torch.equal(torch.tensor(tensor1[1]), torch.tensor(tensor2[1]))\n"
     ]
    }
   ],
   "source": [
    "import pandas as pd\n",
    "import torch\n",
    "\n",
    "tensor1 = pd.read_pickle(\"/home/Kioedru/code/SSGO/data/compare/ppi_feature_src0.pkl\")\n",
    "tensor2 = pd.read_pickle(\"/home/Kioedru/code/SSGO/data/compare/ppi_feature_src.pkl\")\n",
    "\n",
    "are_tensors_equal = torch.equal(torch.tensor(tensor1[1]), torch.tensor(tensor2[1]))\n",
    "print(\"Are the tensors equal?\", are_tensors_equal)"
   ]
  },
  {
   "cell_type": "code",
   "execution_count": null,
   "metadata": {},
   "outputs": [],
   "source": []
  }
 ],
 "metadata": {
  "kernelspec": {
   "display_name": "cfago",
   "language": "python",
   "name": "python3"
  },
  "language_info": {
   "codemirror_mode": {
    "name": "ipython",
    "version": 3
   },
   "file_extension": ".py",
   "mimetype": "text/x-python",
   "name": "python",
   "nbconvert_exporter": "python",
   "pygments_lexer": "ipython3",
   "version": "3.8.18"
  }
 },
 "nbformat": 4,
 "nbformat_minor": 2
}
